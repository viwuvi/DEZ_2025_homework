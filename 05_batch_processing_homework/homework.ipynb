{
 "cells": [
  {
   "cell_type": "code",
   "execution_count": 167,
   "id": "130e6b60-acfb-4c4f-993b-daa951cd7b3e",
   "metadata": {},
   "outputs": [],
   "source": [
    "import pyspark\n",
    "from pyspark.sql import SparkSession\n",
    "from pyspark.sql import types\n",
    "from datetime import date\n",
    "from pyspark.sql.functions import col, expr, rank, unix_timestamp, round, to_date, lit, count\n",
    "from pyspark.sql.window import Window"
   ]
  },
  {
   "cell_type": "code",
   "execution_count": 5,
   "id": "50910232-7d3f-4ac3-aa47-890d476adb40",
   "metadata": {},
   "outputs": [
    {
     "name": "stderr",
     "output_type": "stream",
     "text": [
      "Setting default log level to \"WARN\".\n",
      "To adjust logging level use sc.setLogLevel(newLevel). For SparkR, use setLogLevel(newLevel).\n",
      "25/03/03 16:31:06 WARN NativeCodeLoader: Unable to load native-hadoop library for your platform... using builtin-java classes where applicable\n"
     ]
    }
   ],
   "source": [
    "spark = SparkSession.builder \\\n",
    "    .master(\"local[*]\") \\\n",
    "    .appName('test') \\\n",
    "    .getOrCreate()"
   ]
  },
  {
   "cell_type": "code",
   "execution_count": 7,
   "id": "0f111d41-d488-4308-a1b9-7361f289fe32",
   "metadata": {},
   "outputs": [
    {
     "data": {
      "text/plain": [
       "'3.5.4'"
      ]
     },
     "execution_count": 7,
     "metadata": {},
     "output_type": "execute_result"
    }
   ],
   "source": [
    "## Question 1\n",
    "pyspark.__version__"
   ]
  },
  {
   "cell_type": "code",
   "execution_count": null,
   "id": "89e413ad-9a72-4c9d-ac5d-4a96bdde8f0c",
   "metadata": {},
   "outputs": [],
   "source": [
    "!wget https://d37ci6vzurychx.cloudfront.net/trip-data/yellow_tripdata_2024-10.parquet"
   ]
  },
  {
   "cell_type": "code",
   "execution_count": null,
   "id": "d0473308-7915-4d1a-9a2e-1b80de91aa33",
   "metadata": {},
   "outputs": [],
   "source": [
    "df = spark.read \\\n",
    "    .option(\"header\", \"true\") \\\n",
    "    .parquet('yellow_tripdata_2024-10.parquet')"
   ]
  },
  {
   "cell_type": "code",
   "execution_count": null,
   "id": "d8b299ec-f467-4527-a439-0c97c13e0a0f",
   "metadata": {},
   "outputs": [],
   "source": [
    "df_partition = df.repartition(4)"
   ]
  },
  {
   "cell_type": "code",
   "execution_count": null,
   "id": "cff9eef2-bc3c-4aef-ad8a-2cd6988b4f7b",
   "metadata": {},
   "outputs": [],
   "source": [
    "## Question 2\n",
    "df_partition.write.parquet('yellow_tripdata/2024/10/')"
   ]
  },
  {
   "cell_type": "code",
   "execution_count": 9,
   "id": "d4147b95-d69a-4cd5-8bd0-d27472eeaa49",
   "metadata": {},
   "outputs": [],
   "source": [
    "df = spark.read.parquet('yellow_tripdata/2024/10/')"
   ]
  },
  {
   "cell_type": "code",
   "execution_count": 133,
   "id": "b0302053-b696-460f-a644-bb477f7f0246",
   "metadata": {},
   "outputs": [
    {
     "data": {
      "text/plain": [
       "[('VendorID', 'int'),\n",
       " ('tpep_pickup_datetime', 'timestamp_ntz'),\n",
       " ('tpep_dropoff_datetime', 'timestamp_ntz'),\n",
       " ('passenger_count', 'bigint'),\n",
       " ('trip_distance', 'double'),\n",
       " ('RatecodeID', 'bigint'),\n",
       " ('store_and_fwd_flag', 'string'),\n",
       " ('PULocationID', 'int'),\n",
       " ('DOLocationID', 'int'),\n",
       " ('payment_type', 'bigint'),\n",
       " ('fare_amount', 'double'),\n",
       " ('extra', 'double'),\n",
       " ('mta_tax', 'double'),\n",
       " ('tip_amount', 'double'),\n",
       " ('tolls_amount', 'double'),\n",
       " ('improvement_surcharge', 'double'),\n",
       " ('total_amount', 'double'),\n",
       " ('congestion_surcharge', 'double'),\n",
       " ('Airport_fee', 'double')]"
      ]
     },
     "execution_count": 133,
     "metadata": {},
     "output_type": "execute_result"
    }
   ],
   "source": [
    "df.dtypes"
   ]
  },
  {
   "cell_type": "code",
   "execution_count": 139,
   "id": "b7141acc-601a-4265-a799-0c5bd53e5718",
   "metadata": {},
   "outputs": [],
   "source": [
    "df_q3 = df.filter(to_date(df.tpep_pickup_datetime) == '2024-10-15')"
   ]
  },
  {
   "cell_type": "code",
   "execution_count": 141,
   "id": "f89837c9-bf51-4742-85c3-3466068cd11b",
   "metadata": {},
   "outputs": [
    {
     "data": {
      "text/plain": [
       "128893"
      ]
     },
     "execution_count": 141,
     "metadata": {},
     "output_type": "execute_result"
    }
   ],
   "source": [
    "## Question 3\n",
    "df_q3.count()"
   ]
  },
  {
   "cell_type": "code",
   "execution_count": 153,
   "id": "b350c285-99f5-4cf9-872b-6f028e921507",
   "metadata": {},
   "outputs": [],
   "source": [
    "df_q4_diff = df \\\n",
    "    .select(\"tpep_dropoff_datetime\", \"tpep_pickup_datetime\") \\\n",
    "    .withColumn(\"trip_duration_seconds\", unix_timestamp(col(\"tpep_dropoff_datetime\")) - unix_timestamp(col(\"tpep_pickup_datetime\")))\n",
    "# )"
   ]
  },
  {
   "cell_type": "code",
   "execution_count": 155,
   "id": "eb631e7c-f7be-4ea2-ab9a-48cf5c5359d9",
   "metadata": {},
   "outputs": [],
   "source": [
    "df_q4_diff = df_q4_diff.withColumn(\"trip_duration_hours\", round(col(\"trip_duration_seconds\") / 3600, 2)) "
   ]
  },
  {
   "cell_type": "code",
   "execution_count": 157,
   "id": "655416d3-8e5b-4b9c-b521-3da0aa6e11da",
   "metadata": {},
   "outputs": [],
   "source": [
    "window_spec = Window.orderBy(col(\"trip_duration_hours\").desc())\n",
    "\n",
    "df_q4_diff = df_q4_diff.withColumn(\"rank\", rank().over(window_spec))\n",
    "\n",
    "ranked_df_q4_diff = df_q4_diff.orderBy(col(\"trip_duration_hours\").desc())"
   ]
  },
  {
   "cell_type": "code",
   "execution_count": 159,
   "id": "ebfab922-7936-4dbc-b4f5-801c888a62c9",
   "metadata": {},
   "outputs": [
    {
     "name": "stderr",
     "output_type": "stream",
     "text": [
      "25/03/03 17:04:34 WARN WindowExec: No Partition Defined for Window operation! Moving all data to a single partition, this can cause serious performance degradation.\n",
      "25/03/03 17:04:34 WARN WindowExec: No Partition Defined for Window operation! Moving all data to a single partition, this can cause serious performance degradation.\n",
      "25/03/03 17:04:34 WARN WindowExec: No Partition Defined for Window operation! Moving all data to a single partition, this can cause serious performance degradation.\n"
     ]
    },
    {
     "name": "stdout",
     "output_type": "stream",
     "text": [
      "+---------------------+--------------------+---------------------+-------------------+----+\n",
      "|tpep_dropoff_datetime|tpep_pickup_datetime|trip_duration_seconds|trip_duration_hours|rank|\n",
      "+---------------------+--------------------+---------------------+-------------------+----+\n",
      "|  2024-10-23 07:40:53| 2024-10-16 13:03:49|               585424|             162.62|   1|\n",
      "|  2024-10-09 18:06:55| 2024-10-03 18:47:25|               515970|             143.33|   2|\n",
      "|  2024-10-28 09:46:33| 2024-10-22 16:00:55|               495938|             137.76|   3|\n",
      "|  2024-10-23 04:43:37| 2024-10-18 09:53:32|               413405|             114.83|   4|\n",
      "|  2024-10-24 18:30:18| 2024-10-21 00:36:24|               323634|               89.9|   5|\n",
      "|  2024-10-24 06:57:38| 2024-10-20 13:30:52|               322006|              89.45|   6|\n",
      "|  2024-10-25 14:22:49| 2024-10-22 16:04:52|               253077|               70.3|   7|\n",
      "|  2024-10-15 15:07:15| 2024-10-12 19:32:51|               243264|              67.57|   8|\n",
      "|  2024-10-20 12:02:18| 2024-10-17 17:58:18|               237840|              66.07|   9|\n",
      "|  2024-10-23 12:53:42| 2024-10-21 14:28:21|               167121|              46.42|  10|\n",
      "|  2024-10-22 13:17:00| 2024-10-20 18:58:28|               152312|              42.31|  11|\n",
      "|  2024-10-26 10:58:25| 2024-10-24 20:29:58|               138507|              38.47|  12|\n",
      "|  2024-10-25 09:49:06| 2024-10-23 23:52:02|               122224|              33.95|  13|\n",
      "|  2024-10-03 12:54:45| 2024-10-02 10:36:50|                94675|               26.3|  14|\n",
      "|  2024-10-15 23:57:22| 2024-10-14 22:39:53|                91049|              25.29|  15|\n",
      "|  2024-10-16 13:03:33| 2024-10-15 11:49:15|                90858|              25.24|  16|\n",
      "|  2024-10-24 11:51:10| 2024-10-23 11:22:58|                88092|              24.47|  17|\n",
      "|  2024-10-15 20:22:03| 2024-10-14 20:22:20|                86383|               24.0|  18|\n",
      "|  2024-10-21 13:37:32| 2024-10-20 13:37:44|                86388|               24.0|  18|\n",
      "|  2024-10-29 11:26:49| 2024-10-28 11:27:39|                86350|              23.99|  20|\n",
      "+---------------------+--------------------+---------------------+-------------------+----+\n",
      "only showing top 20 rows\n",
      "\n"
     ]
    }
   ],
   "source": [
    "## Question 4\n",
    "df_q4_diff.show()"
   ]
  },
  {
   "cell_type": "code",
   "execution_count": 161,
   "id": "fa11d103-1be9-44ba-ac1a-a54ffafc5015",
   "metadata": {},
   "outputs": [
    {
     "name": "stdout",
     "output_type": "stream",
     "text": [
      "--2025-03-03 17:18:58--  https://d37ci6vzurychx.cloudfront.net/misc/taxi_zone_lookup.csv\n",
      "Resolving d37ci6vzurychx.cloudfront.net (d37ci6vzurychx.cloudfront.net)... 54.230.48.100, 54.230.48.207, 54.230.48.149, ...\n",
      "Connecting to d37ci6vzurychx.cloudfront.net (d37ci6vzurychx.cloudfront.net)|54.230.48.100|:443... connected.\n",
      "HTTP request sent, awaiting response... 200 OK\n",
      "Length: 12331 (12K) [text/csv]\n",
      "Saving to: ‘taxi_zone_lookup.csv’\n",
      "\n",
      "taxi_zone_lookup.cs 100%[===================>]  12.04K  --.-KB/s    in 0s      \n",
      "\n",
      "2025-03-03 17:18:59 (406 MB/s) - ‘taxi_zone_lookup.csv’ saved [12331/12331]\n",
      "\n"
     ]
    }
   ],
   "source": [
    "!wget https://d37ci6vzurychx.cloudfront.net/misc/taxi_zone_lookup.csv"
   ]
  },
  {
   "cell_type": "code",
   "execution_count": 163,
   "id": "d1d2ba5f-971e-4621-9bdb-71ad0dacbdb3",
   "metadata": {},
   "outputs": [],
   "source": [
    "df_zone = spark.read \\\n",
    "    .option(\"header\", \"true\") \\\n",
    "    .csv('taxi_zone_lookup.csv')"
   ]
  },
  {
   "cell_type": "code",
   "execution_count": 187,
   "id": "c5d06637-216c-4cd8-a582-aa906fc84576",
   "metadata": {},
   "outputs": [],
   "source": [
    "df_counts = df.groupBy(\"PULocationID\").agg(count(\"*\").alias(\"pickup_count\"))\n",
    "window_spec = Window.orderBy(col(\"pickup_count\").asc()) \n",
    "df_rank = df_counts.withColumn(\"rank\", rank().over(window_spec))\n",
    "df_joined = df_rank.join(df_zone, df_rank.PULocationID == df_zone.LocationID, \"inner\")\\\n",
    "    .select(df_rank[\"PULocationID\"], col(\"Zone\"), col(\"pickup_count\"), col(\"rank\"))"
   ]
  },
  {
   "cell_type": "code",
   "execution_count": 189,
   "id": "d958e72f-e863-4acc-af30-46f0b840abc3",
   "metadata": {},
   "outputs": [
    {
     "name": "stderr",
     "output_type": "stream",
     "text": [
      "25/03/03 17:26:35 WARN WindowExec: No Partition Defined for Window operation! Moving all data to a single partition, this can cause serious performance degradation.\n",
      "25/03/03 17:26:35 WARN WindowExec: No Partition Defined for Window operation! Moving all data to a single partition, this can cause serious performance degradation.\n",
      "25/03/03 17:26:35 WARN WindowExec: No Partition Defined for Window operation! Moving all data to a single partition, this can cause serious performance degradation.\n",
      "25/03/03 17:26:35 WARN WindowExec: No Partition Defined for Window operation! Moving all data to a single partition, this can cause serious performance degradation.\n",
      "25/03/03 17:26:36 WARN WindowExec: No Partition Defined for Window operation! Moving all data to a single partition, this can cause serious performance degradation.\n",
      "25/03/03 17:26:36 WARN WindowExec: No Partition Defined for Window operation! Moving all data to a single partition, this can cause serious performance degradation.\n",
      "25/03/03 17:26:36 WARN WindowExec: No Partition Defined for Window operation! Moving all data to a single partition, this can cause serious performance degradation.\n",
      "25/03/03 17:26:36 WARN WindowExec: No Partition Defined for Window operation! Moving all data to a single partition, this can cause serious performance degradation.\n"
     ]
    },
    {
     "data": {
      "text/plain": [
       "[Row(PULocationID=105, Zone=\"Governor's Island/Ellis Island/Liberty Island\", pickup_count=1, rank=1),\n",
       " Row(PULocationID=5, Zone='Arden Heights', pickup_count=2, rank=2),\n",
       " Row(PULocationID=199, Zone='Rikers Island', pickup_count=2, rank=2),\n",
       " Row(PULocationID=111, Zone='Green-Wood Cemetery', pickup_count=3, rank=4),\n",
       " Row(PULocationID=2, Zone='Jamaica Bay', pickup_count=3, rank=4),\n",
       " Row(PULocationID=44, Zone='Charleston/Tottenville', pickup_count=4, rank=6),\n",
       " Row(PULocationID=84, Zone=\"Eltingville/Annadale/Prince's Bay\", pickup_count=4, rank=6),\n",
       " Row(PULocationID=245, Zone='West Brighton', pickup_count=4, rank=6),\n",
       " Row(PULocationID=204, Zone='Rossville/Woodrow', pickup_count=4, rank=6),\n",
       " Row(PULocationID=187, Zone='Port Richmond', pickup_count=4, rank=6)]"
      ]
     },
     "execution_count": 189,
     "metadata": {},
     "output_type": "execute_result"
    }
   ],
   "source": [
    "## Question 5\n",
    "df_joined.head(10)"
   ]
  }
 ],
 "metadata": {
  "kernelspec": {
   "display_name": "Python [conda env:base] *",
   "language": "python",
   "name": "conda-base-py"
  },
  "language_info": {
   "codemirror_mode": {
    "name": "ipython",
    "version": 3
   },
   "file_extension": ".py",
   "mimetype": "text/x-python",
   "name": "python",
   "nbconvert_exporter": "python",
   "pygments_lexer": "ipython3",
   "version": "3.12.7"
  }
 },
 "nbformat": 4,
 "nbformat_minor": 5
}
